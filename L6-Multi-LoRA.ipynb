{
 "cells": [
  {
   "cell_type": "markdown",
   "id": "6eddab55",
   "metadata": {},
   "source": [
    "# Lesson 6 - Multi-LoRA\n",
    "\n",
    "\n",
    "In this lesson, we'll see how to efficiently serve dozens of fine-tuned models together in a single deployment without sacrificing latency."
   ]
  },
  {
   "cell_type": "markdown",
   "id": "1501fea0",
   "metadata": {},
   "source": [
    "### Import required packages"
   ]
  },
  {
   "cell_type": "code",
   "execution_count": 1,
   "id": "c7964cc5-0d8d-4ff1-9cdc-89032e45fa6e",
   "metadata": {
    "height": 148
   },
   "outputs": [],
   "source": [
    "import copy\n",
    "import matplotlib.pyplot as plt\n",
    "import numpy as np\n",
    "import random\n",
    "import time\n",
    "import torch\n",
    "import torch.nn.functional as F\n",
    "from tqdm import tqdm"
   ]
  },
  {
   "cell_type": "markdown",
   "id": "2b62bb64",
   "metadata": {},
   "source": [
    "### Let's create a new model\n",
    "\n",
    "We will start with creating an extension to the model from lesson 5. It has a custom helper function for computing the LoRA layer step with multiple LoRAs per batch."
   ]
  },
  {
   "cell_type": "code",
   "execution_count": 2,
   "id": "ecf12393-deae-4daa-a93a-0b7faa3ad3ff",
   "metadata": {
    "height": 517
   },
   "outputs": [],
   "source": [
    "class AbstractMultiLoraModel(torch.nn.Module):\n",
    "    def __init__(self):\n",
    "        super().__init__()\n",
    "        \n",
    "        # hidden_size = 10\n",
    "        # set this so low to ensure we are not \n",
    "        # compute-bound by the linear layer\n",
    "        # this is only an issue when running on CPU, \n",
    "        # for GPUs we can set this much\n",
    "        # higher and still avoid being compute bound\n",
    "        self.embedding = torch.nn.Embedding(10, 10)\n",
    "        self.linear = torch.nn.Linear(10, 10)\n",
    "        self.lm_head = torch.nn.Linear(10, 10)\n",
    "\n",
    "    def linear_lora(\n",
    "        self,\n",
    "        x: torch.Tensor,                 # (batch_size, seq_len, in_features)\n",
    "        loras_a: torch.Tensor,           # (num_loras, in_features, rank)\n",
    "        loras_b: torch.Tensor,           # (num_loras, rank, out_features)\n",
    "        lora_indices: torch.LongTensor,  # (batch_size,)\n",
    "    ) -> torch.Tensor:\n",
    "        # y[i] = x[i] @ loras_a[lora_idx] @ loras_b[lora_idx]\n",
    "        raise NotImplementedError()\n",
    "\n",
    "    def forward(self, input_ids, loras_a, loras_b, lora_indices):\n",
    "        x = self.embedding(input_ids)\n",
    "        x = self.linear_lora(x, loras_a, loras_b, lora_indices)\n",
    "        x = self.lm_head(x)\n",
    "        return x"
   ]
  },
  {
   "cell_type": "markdown",
   "id": "2ae0ebbf",
   "metadata": {},
   "source": [
    "### Using a loop\n",
    "\n",
    "Our first attempt to infer across multiple LoRAs will be straightforward: just loop over every row in the batch and apply the correct LoRA using an index mapping: `batch_index --> lora_index`."
   ]
  },
  {
   "cell_type": "code",
   "execution_count": 3,
   "id": "94861153-8bfe-4ae5-9b31-fa7f78e23793",
   "metadata": {
    "height": 262
   },
   "outputs": [],
   "source": [
    "class LoopMultiLoraModel(AbstractMultiLoraModel):\n",
    "    def linear_lora(\n",
    "        self,\n",
    "        x: torch.Tensor,                 # (batch_size, seq_len, in_features)\n",
    "        loras_a: torch.Tensor,           # (num_loras, in_features, lora_rank)\n",
    "        loras_b: torch.Tensor,           # (num_loras, lora_rank, out_features)\n",
    "        lora_indices: torch.LongTensor,  # (batch_size,)\n",
    "    ) -> torch.Tensor:\n",
    "        y = self.linear(x)\n",
    "        for batch_idx, lora_idx in enumerate(lora_indices.numpy()):\n",
    "            lora_a = loras_a[lora_idx]\n",
    "            lora_b = loras_b[lora_idx]\n",
    "            y[batch_idx] += x[batch_idx] @ lora_a @ lora_b\n",
    "        return y"
   ]
  },
  {
   "cell_type": "code",
   "execution_count": 4,
   "id": "a75c87fe-41e3-45ba-aeec-6e00b48e9d53",
   "metadata": {
    "height": 245
   },
   "outputs": [],
   "source": [
    "# toy example of a detokenizer. The vocabular only consists of 10 words (different colors)\n",
    "detokenizer = [\n",
    "    \"red\",\n",
    "    \"orange\",\n",
    "    \"yellow\",\n",
    "    \"green\",\n",
    "    \"blue\",\n",
    "    \"indigo\",\n",
    "    \"violet\",\n",
    "    \"magenta\",\n",
    "    \"marigold\",\n",
    "    \"chartreuse\",\n",
    "]"
   ]
  },
  {
   "cell_type": "code",
   "execution_count": 5,
   "id": "8e45b3e3-df57-4da1-af74-6658d677b9a1",
   "metadata": {
    "height": 46
   },
   "outputs": [],
   "source": [
    "# dummy inputs\n",
    "input_ids = torch.LongTensor([[0, 1, 2, 3, 4, 5, 6, 7]])"
   ]
  },
  {
   "cell_type": "code",
   "execution_count": 6,
   "id": "3b1f7a87-f359-40d9-b5f1-e516c855f6bb",
   "metadata": {
    "height": 29
   },
   "outputs": [
    {
     "data": {
      "text/plain": [
       "<torch._C.Generator at 0x7f2a555b5590>"
      ]
     },
     "execution_count": 6,
     "metadata": {},
     "output_type": "execute_result"
    }
   ],
   "source": [
    "torch.manual_seed(42)"
   ]
  },
  {
   "cell_type": "code",
   "execution_count": 7,
   "id": "ecd7fc8d-be71-416b-888d-391714dd8eeb",
   "metadata": {
    "height": 131
   },
   "outputs": [],
   "source": [
    "def generate_token(model, **kwargs):\n",
    "    with torch.no_grad():\n",
    "        logits = model(**kwargs)\n",
    "    last_logits = logits[:, -1, :]\n",
    "    next_token_ids = last_logits.argmax(dim=1)\n",
    "\n",
    "    return [detokenizer[token_id] for token_id in next_token_ids]"
   ]
  },
  {
   "cell_type": "code",
   "execution_count": 8,
   "id": "a30f863f-36b9-4f2c-9a06-33a3c5ef565c",
   "metadata": {
    "height": 29
   },
   "outputs": [],
   "source": [
    "model = LoopMultiLoraModel()"
   ]
  },
  {
   "cell_type": "markdown",
   "id": "ecbbe14c",
   "metadata": {},
   "source": [
    "### Let's try it!\n",
    "\n",
    "We will try this over a few random LoRAs using a fixed tensor of input_ids. If our multi-LoRA generation process is working as designed, we should see a variety of different outputs generated as we randomly iterate over the LoRAs."
   ]
  },
  {
   "cell_type": "code",
   "execution_count": 9,
   "id": "818f27ef-9e6e-4aa5-bebd-06c2ffa7e711",
   "metadata": {
    "height": 381
   },
   "outputs": [
    {
     "name": "stdout",
     "output_type": "stream",
     "text": [
      "['orange']\n",
      "['red']\n",
      "['chartreuse']\n",
      "['yellow']\n",
      "['marigold']\n",
      "['yellow']\n",
      "['red']\n",
      "['orange']\n",
      "['violet']\n",
      "['red']\n"
     ]
    }
   ],
   "source": [
    "# constants\n",
    "bs = 1\n",
    "num_loras = 64\n",
    "h = 10\n",
    "r = 2\n",
    "\n",
    "# create contiguous blocks for 64 random LoRA weights\n",
    "loras_a = torch.randn(num_loras, h, r)\n",
    "loras_b = torch.randn(num_loras, r, h)\n",
    "\n",
    "for i in range(10):\n",
    "    # randomize the LoRAs each iteration\n",
    "    lora_indices = torch.randint(num_loras, (bs,), dtype=torch.long)\n",
    "    next_token = generate_token(\n",
    "        model,\n",
    "        input_ids=input_ids,\n",
    "        loras_a=loras_a,\n",
    "        loras_b=loras_b,\n",
    "        lora_indices=lora_indices,\n",
    "    )\n",
    "    print(next_token)"
   ]
  },
  {
   "cell_type": "markdown",
   "id": "1108cbf5",
   "metadata": {},
   "source": [
    "### Let's benchmark our multi-LoRA system!\n",
    "\n",
    "We will measure the average latency to generate a single token as the batch size increases and each element within the batch can have a different LoRA adapter (chosen randomly)."
   ]
  },
  {
   "cell_type": "code",
   "execution_count": 10,
   "id": "798ce936-fbad-4a49-8c86-2c2b4ec3747b",
   "metadata": {
    "height": 607
   },
   "outputs": [],
   "source": [
    "# constants\n",
    "seq_len = 8\n",
    "vocab_size = 10\n",
    "nsamples = 500\n",
    "max_batch_size = 64\n",
    "\n",
    "\n",
    "def benchmark(model):\n",
    "    avg_latencies = []\n",
    "    for bs in range(1, max_batch_size + 1):\n",
    "        latencies = []\n",
    "        for _ in range(nsamples):\n",
    "            # randomize the inputs and LoRA indices\n",
    "            input_ids = torch.randint(\n",
    "                vocab_size, (bs, seq_len), dtype=torch.long)\n",
    "            lora_indices = torch.randint(\n",
    "                num_loras, (bs,), dtype=torch.long)\n",
    "\n",
    "            # measure the end-to-end latency for \n",
    "            # generating a single token\n",
    "            t0 = time.time()\n",
    "            next_token = generate_token(\n",
    "                model,\n",
    "                input_ids=input_ids,\n",
    "                loras_a=loras_a,\n",
    "                loras_b=loras_b,\n",
    "                lora_indices=lora_indices,\n",
    "            )\n",
    "            latencies.append(time.time() - t0)\n",
    "\n",
    "        # average the latency across all the samples\n",
    "        latency_s = sum(latencies) / len(latencies)\n",
    "        avg_latencies.append(latency_s)\n",
    "        print(bs, latency_s)\n",
    "    return avg_latencies"
   ]
  },
  {
   "cell_type": "markdown",
   "id": "b1c960d4",
   "metadata": {},
   "source": [
    "**Note:** Your results might differ from those shown in the video, but they will still follow the same pattern."
   ]
  },
  {
   "cell_type": "code",
   "execution_count": 11,
   "id": "33d1f038-a3a9-4e4f-be18-36af0a31572a",
   "metadata": {
    "height": 29
   },
   "outputs": [
    {
     "name": "stdout",
     "output_type": "stream",
     "text": [
      "1 0.0001226797103881836\n",
      "2 0.00014912605285644532\n",
      "3 0.00017474889755249025\n",
      "4 0.00020637226104736327\n",
      "5 0.00021913862228393555\n",
      "6 0.0002387843132019043\n",
      "7 0.00026137495040893556\n",
      "8 0.0002839179039001465\n",
      "9 0.0003064594268798828\n",
      "10 0.0003347792625427246\n",
      "11 0.0004198803901672363\n",
      "12 0.0004325981140136719\n",
      "13 0.00040337181091308595\n",
      "14 0.00041686630249023436\n",
      "15 0.0004387364387512207\n",
      "16 0.00046236705780029297\n",
      "17 0.0006169157028198243\n",
      "18 0.0005312376022338867\n",
      "19 0.0005607037544250489\n",
      "20 0.0006236371994018555\n",
      "21 0.0006323800086975097\n",
      "22 0.0006395635604858398\n",
      "23 0.0006618967056274414\n",
      "24 0.0006916866302490234\n",
      "25 0.000725189208984375\n",
      "26 0.0007431144714355469\n",
      "27 0.0007679719924926758\n",
      "28 0.0007983155250549317\n",
      "29 0.0008297405242919922\n",
      "30 0.0008402857780456543\n",
      "31 0.0008693232536315918\n",
      "32 0.000964820384979248\n",
      "33 0.000968167781829834\n",
      "34 0.0009742288589477539\n",
      "35 0.0009670352935791016\n",
      "36 0.0009940991401672363\n",
      "37 0.0010121021270751954\n",
      "38 0.0010401740074157714\n",
      "39 0.0010708775520324708\n",
      "40 0.0011572418212890624\n",
      "41 0.0011203346252441407\n",
      "42 0.0011516604423522949\n",
      "43 0.0011604313850402833\n",
      "44 0.001185302734375\n",
      "45 0.00120656681060791\n",
      "46 0.0012315549850463866\n",
      "47 0.0012598686218261719\n",
      "48 0.0013014912605285645\n",
      "49 0.001314706802368164\n",
      "50 0.0014182868003845214\n",
      "51 0.0013957886695861817\n",
      "52 0.0013897085189819335\n",
      "53 0.0015285310745239257\n",
      "54 0.0016436090469360352\n",
      "55 0.001671170711517334\n",
      "56 0.0016470189094543457\n",
      "57 0.0016928510665893555\n",
      "58 0.0017070536613464356\n",
      "59 0.0017464885711669922\n",
      "60 0.0017668976783752441\n",
      "61 0.0017718286514282226\n",
      "62 0.0018011412620544433\n",
      "63 0.001829890251159668\n",
      "64 0.0018621811866760254\n"
     ]
    }
   ],
   "source": [
    "avg_latencies_loop = benchmark(model)"
   ]
  },
  {
   "cell_type": "markdown",
   "id": "3e88a95a",
   "metadata": {},
   "source": [
    "### Let's visualize it!\n",
    "\n",
    "**Note**: Your plot may vary slightly from the one shown in the video, yet it will exhibit a similar pattern."
   ]
  },
  {
   "cell_type": "code",
   "execution_count": 12,
   "id": "cf2c5122-37da-4a58-8e1a-ca211dc2551f",
   "metadata": {
    "height": 165
   },
   "outputs": [
    {
     "data": {
      "image/png": "[encoded data removed]",
      "text/plain": [
       "<Figure size 640x480 with 1 Axes>"
      ]
     },
     "metadata": {},
     "output_type": "display_data"
    }
   ],
   "source": [
    "x = list(range(1, max_batch_size + 1))\n",
    "plt.plot(x, avg_latencies_loop, label=\"loop\")\n",
    "\n",
    "plt.xlabel('Batch Size')\n",
    "plt.ylabel('Avg Latency (s)')\n",
    "plt.title('Multi-LoRA latency w.r.t. batch size')\n",
    "plt.legend()\n",
    "\n",
    "plt.show()"
   ]
  },
  {
   "cell_type": "markdown",
   "id": "4adf9077",
   "metadata": {},
   "source": [
    "### Let's vectorize the LoRA computation\n",
    "\n",
    "We will vectorize the LoRA computation by:\n",
    "\n",
    "1. Gather the LoRA weight for each batch into a single tensor using `torch.index_select`.\n",
    "2. Apply LoRA computation once for the entire input tensor."
   ]
  },
  {
   "cell_type": "code",
   "execution_count": 13,
   "id": "5801f273-741e-4466-bb63-b8913562723b",
   "metadata": {
    "height": 279
   },
   "outputs": [],
   "source": [
    "class GatheredMultiLoraModel(AbstractMultiLoraModel):\n",
    "    def linear_lora(\n",
    "        self,\n",
    "        x: torch.Tensor,                 # (batch_size, seq_len, in_features)\n",
    "        loras_a: torch.Tensor,           # (num_loras, in_features, lora_rank)\n",
    "        loras_b: torch.Tensor,           # (num_loras, lora_rank, out_features)\n",
    "        lora_indices: torch.LongTensor,  # (batch_size,)\n",
    "    ) -> torch.Tensor:\n",
    "        y = self.linear(x)\n",
    "        \n",
    "        # gather the LoRA weights into a new tensor and apply\n",
    "        lora_a = torch.index_select(loras_a, 0, lora_indices) # (batch_size, in_features, lora_rank)\n",
    "        lora_b = torch.index_select(loras_b, 0, lora_indices) # (batch_size, lora_rank, out_features)\n",
    "        y += x @ lora_a @ lora_b\n",
    "        return y"
   ]
  },
  {
   "cell_type": "code",
   "execution_count": 14,
   "id": "f8aafb6e-6981-4c83-9f9d-60d2e8958746",
   "metadata": {
    "height": 29
   },
   "outputs": [],
   "source": [
    "model = GatheredMultiLoraModel()"
   ]
  },
  {
   "cell_type": "markdown",
   "id": "2f6ae3db",
   "metadata": {},
   "source": [
    "**Note:** Your results might differ from those shown in the video, but they will still follow the same pattern."
   ]
  },
  {
   "cell_type": "code",
   "execution_count": 15,
   "id": "c3843d58-4fd5-4141-a73a-69d1d01db89d",
   "metadata": {
    "height": 29
   },
   "outputs": [
    {
     "name": "stdout",
     "output_type": "stream",
     "text": [
      "1 0.00012606620788574219\n",
      "2 0.0018707971572875977\n",
      "3 0.0020215201377868654\n",
      "4 0.0023796663284301758\n",
      "5 0.002571451187133789\n",
      "6 0.002008738994598389\n",
      "7 0.0022209248542785645\n",
      "8 0.002188258647918701\n",
      "9 0.0020021662712097167\n",
      "10 0.0023880276679992675\n",
      "11 0.002377999782562256\n",
      "12 0.002383619785308838\n",
      "13 0.002196265697479248\n",
      "14 0.002579907417297363\n",
      "15 0.00259175443649292\n",
      "16 0.002769302845001221\n",
      "17 0.002382363796234131\n",
      "18 0.0025838985443115236\n",
      "19 0.002407823085784912\n",
      "20 0.0025759015083312987\n",
      "21 0.0028048591613769533\n",
      "22 0.002574282169342041\n",
      "23 0.002766873836517334\n",
      "24 0.0027816295623779297\n",
      "25 0.0029810976982116697\n",
      "26 0.0027878880500793457\n",
      "27 0.003382011890411377\n",
      "28 0.0031988306045532227\n",
      "29 0.0031662492752075194\n",
      "30 0.002782567501068115\n",
      "31 0.0029722723960876464\n",
      "32 0.0027893052101135253\n",
      "33 0.002963876724243164\n",
      "34 0.0029883556365966797\n",
      "35 0.0026131539344787596\n",
      "36 0.002824268341064453\n",
      "37 0.0031827588081359865\n",
      "38 0.0035916895866394045\n",
      "39 0.003566192626953125\n",
      "40 0.0033728089332580565\n",
      "41 0.0029925079345703124\n",
      "42 0.003976178646087646\n",
      "43 0.0034469985961914063\n",
      "44 0.0033850011825561524\n",
      "45 0.003190335750579834\n",
      "46 0.003375804901123047\n",
      "47 0.003835014820098877\n",
      "48 0.0037539114952087403\n",
      "49 0.003395725727081299\n",
      "50 0.0033793272972106932\n",
      "51 0.0037715439796447755\n",
      "52 0.003990705490112305\n",
      "53 0.0035693836212158203\n",
      "54 0.003778949737548828\n",
      "55 0.0035837974548339844\n",
      "56 0.003585789680480957\n",
      "57 0.003610611915588379\n",
      "58 0.0037659778594970705\n",
      "59 0.003417635440826416\n",
      "60 0.004350195407867432\n",
      "61 0.005183052539825439\n",
      "62 0.004564521789550781\n",
      "63 0.004156366348266601\n",
      "64 0.004004241466522217\n"
     ]
    }
   ],
   "source": [
    "avg_latencies_gathered = benchmark(model)"
   ]
  },
  {
   "cell_type": "markdown",
   "id": "f7603255",
   "metadata": {},
   "source": [
    "### Let's visualize it!\n",
    "\n",
    "**Note**: Your plot may vary slightly from the one shown in the video, yet it will exhibit a similar pattern."
   ]
  },
  {
   "cell_type": "code",
   "execution_count": 16,
   "id": "fee3360b-a610-4c48-91d1-09d33647f1aa",
   "metadata": {
    "height": 182
   },
   "outputs": [
    {
     "data": {
      "image/png": "[encoded data removed]",
      "text/plain": [
       "<Figure size 640x480 with 1 Axes>"
      ]
     },
     "metadata": {},
     "output_type": "display_data"
    }
   ],
   "source": [
    "x = list(range(1, max_batch_size + 1))\n",
    "plt.plot(x, avg_latencies_loop, label=\"loop\")\n",
    "plt.plot(x, avg_latencies_gathered, label=\"gathered\")\n",
    "\n",
    "plt.xlabel('Batch Size')\n",
    "plt.ylabel('Avg Latency (s)')\n",
    "plt.title('Multi-LoRA latency w.r.t. batch size')\n",
    "plt.legend()\n",
    "\n",
    "plt.show()"
   ]
  }
 ],
 "metadata": {
  "kernelspec": {
   "display_name": "Python 3 (ipykernel)",
   "language": "python",
   "name": "python3"
  },
  "language_info": {
   "codemirror_mode": {
    "name": "ipython",
    "version": 3
   },
   "file_extension": ".py",
   "mimetype": "text/x-python",
   "name": "python",
   "nbconvert_exporter": "python",
   "pygments_lexer": "ipython3",
   "version": "3.11.8"
  }
 },
 "nbformat": 4,
 "nbformat_minor": 5
}
